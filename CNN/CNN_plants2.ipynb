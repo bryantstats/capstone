{
 "cells": [
  {
   "cell_type": "markdown",
   "metadata": {},
   "source": [
    "# Apple "
   ]
  },
  {
   "cell_type": "code",
   "execution_count": 1,
   "metadata": {},
   "outputs": [],
   "source": [
    "import tensorflow as tf\n",
    "from tensorflow.keras.models import Sequential\n",
    "from tensorflow.keras.layers import Dense, Conv2D, Flatten, Dropout, MaxPooling2D\n",
    "from tensorflow.keras.preprocessing.image import ImageDataGenerator\n",
    "\n",
    "import os\n",
    "import numpy as np\n",
    "import matplotlib.pyplot as plt\n"
   ]
  },
  {
   "cell_type": "code",
   "execution_count": 2,
   "metadata": {},
   "outputs": [],
   "source": [
    "train_dir = 'train'\n",
    "validation_dir = 'validation'\n"
   ]
  },
  {
   "cell_type": "code",
   "execution_count": 3,
   "metadata": {},
   "outputs": [],
   "source": [
    "train_scab_dir = os.path.join(train_dir, 'Apple___Apple_scab')  \n",
    "train_black_dir = os.path.join(train_dir, 'Apple___Black_rot')  \n",
    "train_rust_dir = os.path.join(train_dir, 'Apple___Cedar_apple_rust')  \n",
    "train_healthy_dir = os.path.join(train_dir, 'Apple___healthy')  \n",
    "\n",
    "validation_scab_dir = os.path.join(validation_dir, 'Apple___Apple_scab')  \n",
    "validation_black_dir = os.path.join(validation_dir, 'Apple___Black_rot')  \n",
    "validation_rust_dir = os.path.join(validation_dir, 'Apple___Cedar_apple_rust')  \n",
    "validation_healthy_dir = os.path.join(validation_dir, 'Apple___healthy')  \n",
    "\n"
   ]
  },
  {
   "cell_type": "code",
   "execution_count": 4,
   "metadata": {},
   "outputs": [],
   "source": [
    "num_scab_tr = len(os.listdir(train_scab_dir))\n",
    "num_black_tr = len(os.listdir(train_black_dir))\n",
    "num_rust_tr = len(os.listdir(train_rust_dir))\n",
    "num_healthy_tr = len(os.listdir(train_healthy_dir))\n",
    "\n",
    "num_scab_val = len(os.listdir(validation_scab_dir))\n",
    "num_black_val = len(os.listdir(validation_black_dir))\n",
    "num_rust_val = len(os.listdir(validation_rust_dir))\n",
    "num_healthy_val = len(os.listdir(validation_healthy_dir))\n",
    "\n",
    "\n",
    "total_train = num_scab_tr + num_black_tr+num_rust_tr+num_healthy_tr\n",
    "total_val = num_scab_val + num_black_val+num_rust_val+num_healthy_val\n"
   ]
  },
  {
   "cell_type": "code",
   "execution_count": 5,
   "metadata": {},
   "outputs": [
    {
     "name": "stdout",
     "output_type": "stream",
     "text": [
      "Total training images: 10149\n",
      "Total validation images: 2537\n"
     ]
    }
   ],
   "source": [
    "print(\"Total training images:\", total_train)\n",
    "print(\"Total validation images:\", total_val)"
   ]
  },
  {
   "cell_type": "code",
   "execution_count": 6,
   "metadata": {},
   "outputs": [],
   "source": [
    "batch_size = 128\n",
    "epochs = 50\n",
    "IMG_HEIGHT = 224\n",
    "IMG_WIDTH = 224\n"
   ]
  },
  {
   "cell_type": "code",
   "execution_count": 7,
   "metadata": {},
   "outputs": [],
   "source": [
    "train_image_generator = ImageDataGenerator(rescale=1./255) # Generator for our training data\n",
    "validation_image_generator = ImageDataGenerator(rescale=1./255) # Generator for our validation data\n"
   ]
  },
  {
   "cell_type": "code",
   "execution_count": 8,
   "metadata": {},
   "outputs": [
    {
     "name": "stdout",
     "output_type": "stream",
     "text": [
      "Found 10148 images belonging to 4 classes.\n",
      "Found 2536 images belonging to 4 classes.\n"
     ]
    }
   ],
   "source": [
    "training_set = train_image_generator.flow_from_directory(train_dir,\n",
    "                                                 target_size=(224, 224),\n",
    "                                                 batch_size=batch_size,\n",
    "                                                 class_mode='categorical')\n",
    "\n",
    "test_set = validation_image_generator.flow_from_directory(validation_dir,\n",
    "                                            target_size=(224, 224),\n",
    "                                            batch_size=batch_size,\n",
    "                                            class_mode='categorical')\n"
   ]
  },
  {
   "cell_type": "code",
   "execution_count": 9,
   "metadata": {},
   "outputs": [
    {
     "name": "stderr",
     "output_type": "stream",
     "text": [
      "Using TensorFlow backend.\n"
     ]
    },
    {
     "name": "stdout",
     "output_type": "stream",
     "text": [
      "Model: \"sequential_1\"\n",
      "_________________________________________________________________\n",
      "Layer (type)                 Output Shape              Param #   \n",
      "=================================================================\n",
      "conv2d_1 (Conv2D)            (None, 54, 54, 96)        34944     \n",
      "_________________________________________________________________\n",
      "max_pooling2d_1 (MaxPooling2 (None, 27, 27, 96)        0         \n",
      "_________________________________________________________________\n",
      "batch_normalization_1 (Batch (None, 27, 27, 96)        384       \n",
      "_________________________________________________________________\n",
      "conv2d_2 (Conv2D)            (None, 17, 17, 256)       2973952   \n",
      "_________________________________________________________________\n",
      "max_pooling2d_2 (MaxPooling2 (None, 8, 8, 256)         0         \n",
      "_________________________________________________________________\n",
      "batch_normalization_2 (Batch (None, 8, 8, 256)         1024      \n",
      "_________________________________________________________________\n",
      "conv2d_3 (Conv2D)            (None, 6, 6, 384)         885120    \n",
      "_________________________________________________________________\n",
      "batch_normalization_3 (Batch (None, 6, 6, 384)         1536      \n",
      "_________________________________________________________________\n",
      "conv2d_4 (Conv2D)            (None, 4, 4, 384)         1327488   \n",
      "_________________________________________________________________\n",
      "batch_normalization_4 (Batch (None, 4, 4, 384)         1536      \n",
      "_________________________________________________________________\n",
      "conv2d_5 (Conv2D)            (None, 2, 2, 256)         884992    \n",
      "_________________________________________________________________\n",
      "max_pooling2d_3 (MaxPooling2 (None, 1, 1, 256)         0         \n",
      "_________________________________________________________________\n",
      "batch_normalization_5 (Batch (None, 1, 1, 256)         1024      \n",
      "_________________________________________________________________\n",
      "flatten_1 (Flatten)          (None, 256)               0         \n",
      "_________________________________________________________________\n",
      "dense_1 (Dense)              (None, 4096)              1052672   \n",
      "_________________________________________________________________\n",
      "dropout_1 (Dropout)          (None, 4096)              0         \n",
      "_________________________________________________________________\n",
      "batch_normalization_6 (Batch (None, 4096)              16384     \n",
      "_________________________________________________________________\n",
      "dense_2 (Dense)              (None, 4096)              16781312  \n",
      "_________________________________________________________________\n",
      "dropout_2 (Dropout)          (None, 4096)              0         \n",
      "_________________________________________________________________\n",
      "batch_normalization_7 (Batch (None, 4096)              16384     \n",
      "_________________________________________________________________\n",
      "dense_3 (Dense)              (None, 1000)              4097000   \n",
      "_________________________________________________________________\n",
      "dropout_3 (Dropout)          (None, 1000)              0         \n",
      "_________________________________________________________________\n",
      "batch_normalization_8 (Batch (None, 1000)              4000      \n",
      "_________________________________________________________________\n",
      "dense_4 (Dense)              (None, 4)                 4004      \n",
      "=================================================================\n",
      "Total params: 28,083,756\n",
      "Trainable params: 28,062,620\n",
      "Non-trainable params: 21,136\n",
      "_________________________________________________________________\n"
     ]
    }
   ],
   "source": [
    "# Building CNN based on AlexNet Architecture\n",
    "\n",
    "# Importing Keras libraries and packages\n",
    "from keras.models import Sequential\n",
    "from keras.layers import Convolution2D, MaxPooling2D, Flatten, Dense, Dropout\n",
    "from keras.layers.normalization import BatchNormalization\n",
    "from keras import optimizers\n",
    "from keras.preprocessing.image import ImageDataGenerator\n",
    "from keras.callbacks import ModelCheckpoint\n",
    "\n",
    "# Initializing the CNN\n",
    "classifier = Sequential()\n",
    "\n",
    "# Convolution Step 1\n",
    "classifier.add(Convolution2D(96, 11, strides = (4, 4), padding = 'valid', input_shape=(224, 224, 3), activation = 'relu'))\n",
    "\n",
    "# Max Pooling Step 1\n",
    "classifier.add(MaxPooling2D(pool_size = (2, 2), strides = (2, 2), padding = 'valid'))\n",
    "classifier.add(BatchNormalization())\n",
    "\n",
    "# Convolution Step 2\n",
    "classifier.add(Convolution2D(256, 11, strides = (1, 1), padding='valid', activation = 'relu'))\n",
    "\n",
    "# Max Pooling Step 2\n",
    "classifier.add(MaxPooling2D(pool_size = (2, 2), strides = (2, 2), padding='valid'))\n",
    "classifier.add(BatchNormalization())\n",
    "\n",
    "# Convolution Step 3\n",
    "classifier.add(Convolution2D(384, 3, strides = (1, 1), padding='valid', activation = 'relu'))\n",
    "classifier.add(BatchNormalization())\n",
    "\n",
    "# Convolution Step 4\n",
    "classifier.add(Convolution2D(384, 3, strides = (1, 1), padding='valid', activation = 'relu'))\n",
    "classifier.add(BatchNormalization())\n",
    "\n",
    "# Convolution Step 5\n",
    "classifier.add(Convolution2D(256, 3, strides=(1,1), padding='valid', activation = 'relu'))\n",
    "\n",
    "# Max Pooling Step 3\n",
    "classifier.add(MaxPooling2D(pool_size = (2, 2), strides = (2, 2), padding = 'valid'))\n",
    "classifier.add(BatchNormalization())\n",
    "\n",
    "# Flattening Step\n",
    "classifier.add(Flatten())\n",
    "\n",
    "# Full Connection Step\n",
    "classifier.add(Dense(units = 4096, activation = 'relu'))\n",
    "classifier.add(Dropout(0.4))\n",
    "classifier.add(BatchNormalization())\n",
    "classifier.add(Dense(units = 4096, activation = 'relu'))\n",
    "classifier.add(Dropout(0.4))\n",
    "classifier.add(BatchNormalization())\n",
    "classifier.add(Dense(units = 1000, activation = 'relu'))\n",
    "classifier.add(Dropout(0.2))\n",
    "classifier.add(BatchNormalization())\n",
    "classifier.add(Dense(units = 4, activation = 'softmax'))\n",
    "classifier.summary()\n",
    "\n",
    "\n",
    "# Compiling the CNN\n",
    "classifier.compile(optimizer=optimizers.SGD(lr=0.001, momentum=0.9, decay=0.005),\n",
    "                   loss='categorical_crossentropy',\n",
    "                   metrics=['accuracy'])"
   ]
  },
  {
   "cell_type": "code",
   "execution_count": null,
   "metadata": {},
   "outputs": [
    {
     "name": "stdout",
     "output_type": "stream",
     "text": [
      "Epoch 1/50\n",
      "79/79 [==============================] - 567s 7s/step - loss: 1.0757 - accuracy: 0.6063 - val_loss: 1.3006 - val_accuracy: 0.3775\n",
      "Epoch 2/50\n",
      "79/79 [==============================] - 569s 7s/step - loss: 0.5851 - accuracy: 0.7958 - val_loss: 1.0752 - val_accuracy: 0.5411\n",
      "Epoch 3/50\n",
      "79/79 [==============================] - 568s 7s/step - loss: 0.4223 - accuracy: 0.8479 - val_loss: 0.9104 - val_accuracy: 0.5689\n",
      "Epoch 4/50\n",
      "79/79 [==============================] - 562s 7s/step - loss: 0.3475 - accuracy: 0.8744 - val_loss: 0.6546 - val_accuracy: 0.7716\n",
      "Epoch 5/50\n",
      "79/79 [==============================] - 576s 7s/step - loss: 0.2792 - accuracy: 0.9006 - val_loss: 0.5697 - val_accuracy: 0.8343\n",
      "Epoch 6/50\n",
      "79/79 [==============================] - 572s 7s/step - loss: 0.2530 - accuracy: 0.9085 - val_loss: 0.6101 - val_accuracy: 0.7542\n",
      "Epoch 7/50\n",
      "79/79 [==============================] - 562s 7s/step - loss: 0.2175 - accuracy: 0.9242 - val_loss: 0.4198 - val_accuracy: 0.8862\n",
      "Epoch 8/50\n",
      "79/79 [==============================] - 568s 7s/step - loss: 0.1833 - accuracy: 0.9337 - val_loss: 1.2059 - val_accuracy: 0.7081\n",
      "Epoch 9/50\n",
      "79/79 [==============================] - 579s 7s/step - loss: 0.1630 - accuracy: 0.9414 - val_loss: 1.5733 - val_accuracy: 0.7164\n",
      "Epoch 10/50\n",
      "79/79 [==============================] - 573s 7s/step - loss: 0.1342 - accuracy: 0.9524 - val_loss: 0.4970 - val_accuracy: 0.9199\n",
      "Epoch 11/50\n",
      "79/79 [==============================] - 634s 8s/step - loss: 0.1204 - accuracy: 0.9570 - val_loss: 0.6084 - val_accuracy: 0.8181\n",
      "Epoch 12/50\n",
      "79/79 [==============================] - 565s 7s/step - loss: 0.1136 - accuracy: 0.9584 - val_loss: 0.6206 - val_accuracy: 0.7978\n",
      "Epoch 13/50\n",
      "79/79 [==============================] - 579s 7s/step - loss: 0.0968 - accuracy: 0.9675 - val_loss: 0.3046 - val_accuracy: 0.9211\n",
      "Epoch 14/50\n",
      "79/79 [==============================] - 587s 7s/step - loss: 0.0910 - accuracy: 0.9684 - val_loss: 0.3898 - val_accuracy: 0.8393\n",
      "Epoch 15/50\n",
      "79/79 [==============================] - 587s 7s/step - loss: 0.0916 - accuracy: 0.9684 - val_loss: 0.1973 - val_accuracy: 0.9331\n",
      "Epoch 16/50\n",
      "79/79 [==============================] - 595s 8s/step - loss: 0.0762 - accuracy: 0.9743 - val_loss: 0.2704 - val_accuracy: 0.9153\n",
      "Epoch 17/50\n",
      "79/79 [==============================] - 594s 8s/step - loss: 0.0699 - accuracy: 0.9760 - val_loss: 0.2060 - val_accuracy: 0.9248\n",
      "Epoch 18/50\n",
      "79/79 [==============================] - 596s 8s/step - loss: 0.0629 - accuracy: 0.9786 - val_loss: 0.1763 - val_accuracy: 0.9452\n",
      "Epoch 19/50\n",
      "79/79 [==============================] - 599s 8s/step - loss: 0.0572 - accuracy: 0.9818 - val_loss: 0.1206 - val_accuracy: 0.9178\n",
      "Epoch 20/50\n",
      "79/79 [==============================] - 596s 8s/step - loss: 0.0548 - accuracy: 0.9834 - val_loss: 0.5488 - val_accuracy: 0.8962\n",
      "Epoch 21/50\n",
      "79/79 [==============================] - 611s 8s/step - loss: 0.0509 - accuracy: 0.9829 - val_loss: 0.1630 - val_accuracy: 0.9494\n",
      "Epoch 22/50\n",
      "79/79 [==============================] - 611s 8s/step - loss: 0.0479 - accuracy: 0.9848 - val_loss: 0.2126 - val_accuracy: 0.9315\n",
      "Epoch 23/50\n",
      "79/79 [==============================] - 620s 8s/step - loss: 0.0495 - accuracy: 0.9860 - val_loss: 0.2700 - val_accuracy: 0.9539\n",
      "Epoch 24/50\n",
      "79/79 [==============================] - 624s 8s/step - loss: 0.0436 - accuracy: 0.9858 - val_loss: 0.2562 - val_accuracy: 0.9381\n",
      "Epoch 25/50\n",
      "79/79 [==============================] - 606s 8s/step - loss: 0.0441 - accuracy: 0.9864 - val_loss: 0.1992 - val_accuracy: 0.9431\n",
      "Epoch 26/50\n",
      "79/79 [==============================] - 659s 8s/step - loss: 0.0412 - accuracy: 0.9862 - val_loss: 0.1483 - val_accuracy: 0.9244\n",
      "Epoch 27/50\n",
      "79/79 [==============================] - 685s 9s/step - loss: 0.0370 - accuracy: 0.9894 - val_loss: 0.6664 - val_accuracy: 0.8800\n",
      "Epoch 28/50\n",
      "79/79 [==============================] - 631s 8s/step - loss: 0.0353 - accuracy: 0.9890 - val_loss: 0.1750 - val_accuracy: 0.9298\n",
      "Epoch 29/50\n",
      "79/79 [==============================] - 645s 8s/step - loss: 0.0332 - accuracy: 0.9897 - val_loss: 0.1372 - val_accuracy: 0.9373\n",
      "Epoch 30/50\n",
      "79/79 [==============================] - 641s 8s/step - loss: 0.0355 - accuracy: 0.9903 - val_loss: 0.1820 - val_accuracy: 0.9444\n",
      "Epoch 31/50\n",
      "79/79 [==============================] - 606s 8s/step - loss: 0.0349 - accuracy: 0.9890 - val_loss: 0.5786 - val_accuracy: 0.8916\n",
      "Epoch 32/50\n",
      "79/79 [==============================] - 654s 8s/step - loss: 0.0277 - accuracy: 0.9931 - val_loss: 0.2974 - val_accuracy: 0.9277\n",
      "Epoch 33/50\n",
      "79/79 [==============================] - 641s 8s/step - loss: 0.0331 - accuracy: 0.9906 - val_loss: 0.1259 - val_accuracy: 0.9452\n",
      "Epoch 34/50\n",
      "79/79 [==============================] - 612s 8s/step - loss: 0.0304 - accuracy: 0.9910 - val_loss: 0.1085 - val_accuracy: 0.9290\n",
      "Epoch 35/50\n",
      "79/79 [==============================] - 611s 8s/step - loss: 0.0312 - accuracy: 0.9907 - val_loss: 0.1355 - val_accuracy: 0.9560\n",
      "Epoch 36/50\n",
      "79/79 [==============================] - 636s 8s/step - loss: 0.0254 - accuracy: 0.9928 - val_loss: 0.1768 - val_accuracy: 0.9473\n",
      "Epoch 37/50\n",
      "79/79 [==============================] - 647s 8s/step - loss: 0.0248 - accuracy: 0.9931 - val_loss: 0.1852 - val_accuracy: 0.9498\n",
      "Epoch 38/50\n",
      "79/79 [==============================] - 698s 9s/step - loss: 0.0249 - accuracy: 0.9931 - val_loss: 0.2015 - val_accuracy: 0.9547\n",
      "Epoch 39/50\n",
      "79/79 [==============================] - 705s 9s/step - loss: 0.0243 - accuracy: 0.9925 - val_loss: 0.1406 - val_accuracy: 0.9535\n",
      "Epoch 40/50\n",
      "79/79 [==============================] - 631s 8s/step - loss: 0.0225 - accuracy: 0.9944 - val_loss: 0.1343 - val_accuracy: 0.9531\n",
      "Epoch 41/50\n",
      "79/79 [==============================] - 608s 8s/step - loss: 0.0242 - accuracy: 0.9948 - val_loss: 0.1471 - val_accuracy: 0.9507\n",
      "Epoch 42/50\n",
      "13/79 [===>..........................] - ETA: 7:59 - loss: 0.0173 - accuracy: 0.9970"
     ]
    }
   ],
   "source": [
    "history = classifier.fit_generator(training_set,\n",
    "                                   steps_per_epoch=training_set.samples//batch_size,\n",
    "                                   validation_data=test_set,\n",
    "                                   epochs=epochs,\n",
    "                                   validation_steps=test_set.samples//batch_size)"
   ]
  },
  {
   "cell_type": "code",
   "execution_count": null,
   "metadata": {},
   "outputs": [],
   "source": [
    "acc = history.history['accuracy']\n",
    "val_acc = history.history['val_accuracy']\n",
    "\n",
    "loss=history.history['loss']\n",
    "val_loss=history.history['val_loss']\n",
    "\n",
    "epochs_range = range(epochs)\n",
    "\n",
    "plt.figure(figsize=(8, 8))\n",
    "plt.subplot(1, 2, 1)\n",
    "plt.plot(epochs_range, acc, label='Training Accuracy')\n",
    "plt.plot(epochs_range, val_acc, label='Validation Accuracy')\n",
    "plt.legend(loc='lower right')\n",
    "plt.title('Training and Validation Accuracy')\n",
    "\n",
    "plt.subplot(1, 2, 2)\n",
    "plt.plot(epochs_range, loss, label='Training Loss')\n",
    "plt.plot(epochs_range, val_loss, label='Validation Loss')\n",
    "plt.legend(loc='upper right')\n",
    "plt.title('Training and Validation Loss')\n",
    "plt.show()\n"
   ]
  },
  {
   "cell_type": "code",
   "execution_count": null,
   "metadata": {},
   "outputs": [],
   "source": []
  }
 ],
 "metadata": {
  "kernelspec": {
   "display_name": "Python 3",
   "language": "python",
   "name": "python3"
  },
  "language_info": {
   "codemirror_mode": {
    "name": "ipython",
    "version": 3
   },
   "file_extension": ".py",
   "mimetype": "text/x-python",
   "name": "python",
   "nbconvert_exporter": "python",
   "pygments_lexer": "ipython3",
   "version": "3.7.7"
  }
 },
 "nbformat": 4,
 "nbformat_minor": 4
}
