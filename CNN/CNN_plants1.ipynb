{
 "cells": [
  {
   "cell_type": "markdown",
   "metadata": {},
   "source": [
    "# Apple Recognition"
   ]
  },
  {
   "cell_type": "code",
   "execution_count": 1,
   "metadata": {},
   "outputs": [],
   "source": [
    "import tensorflow as tf\n",
    "from tensorflow.keras.models import Sequential\n",
    "from tensorflow.keras.layers import Dense, Conv2D, Flatten, Dropout, MaxPooling2D\n",
    "from tensorflow.keras.preprocessing.image import ImageDataGenerator\n",
    "\n",
    "import os\n",
    "import numpy as np\n",
    "import matplotlib.pyplot as plt\n"
   ]
  },
  {
   "cell_type": "code",
   "execution_count": 2,
   "metadata": {},
   "outputs": [],
   "source": [
    "train_dir = 'train'\n",
    "validation_dir = 'validation'\n"
   ]
  },
  {
   "cell_type": "code",
   "execution_count": 3,
   "metadata": {},
   "outputs": [],
   "source": [
    "train_scab_dir = os.path.join(train_dir, 'Apple___Apple_scab')  \n",
    "train_black_dir = os.path.join(train_dir, 'Apple___Black_rot')  \n",
    "train_rust_dir = os.path.join(train_dir, 'Apple___Cedar_apple_rust')  \n",
    "train_healthy_dir = os.path.join(train_dir, 'Apple___healthy')  \n",
    "\n",
    "validation_scab_dir = os.path.join(validation_dir, 'Apple___Apple_scab')  \n",
    "validation_black_dir = os.path.join(validation_dir, 'Apple___Black_rot')  \n",
    "validation_rust_dir = os.path.join(validation_dir, 'Apple___Cedar_apple_rust')  \n",
    "validation_healthy_dir = os.path.join(validation_dir, 'Apple___healthy')  \n",
    "\n"
   ]
  },
  {
   "cell_type": "code",
   "execution_count": 4,
   "metadata": {},
   "outputs": [],
   "source": [
    "num_scab_tr = len(os.listdir(train_scab_dir))\n",
    "num_black_tr = len(os.listdir(train_black_dir))\n",
    "num_rust_tr = len(os.listdir(train_rust_dir))\n",
    "num_healthy_tr = len(os.listdir(train_healthy_dir))\n",
    "\n",
    "num_scab_val = len(os.listdir(validation_scab_dir))\n",
    "num_black_val = len(os.listdir(validation_black_dir))\n",
    "num_rust_val = len(os.listdir(validation_rust_dir))\n",
    "num_healthy_val = len(os.listdir(validation_healthy_dir))\n",
    "\n",
    "\n",
    "total_train = num_scab_tr + num_black_tr+num_rust_tr+num_healthy_tr\n",
    "total_val = num_scab_val + num_black_val+num_rust_val+num_healthy_val\n"
   ]
  },
  {
   "cell_type": "code",
   "execution_count": 5,
   "metadata": {},
   "outputs": [
    {
     "name": "stdout",
     "output_type": "stream",
     "text": [
      "Total training images: 10149\n",
      "Total validation images: 2537\n"
     ]
    }
   ],
   "source": [
    "\n",
    "print(\"Total training images:\", total_train)\n",
    "print(\"Total validation images:\", total_val)\n"
   ]
  },
  {
   "cell_type": "code",
   "execution_count": 6,
   "metadata": {},
   "outputs": [],
   "source": [
    "batch_size = 128\n",
    "epochs = 50\n",
    "IMG_HEIGHT = 227\n",
    "IMG_WIDTH = 227\n"
   ]
  },
  {
   "cell_type": "code",
   "execution_count": 7,
   "metadata": {},
   "outputs": [],
   "source": [
    "train_image_generator = ImageDataGenerator(rescale=1./255) # Generator for our training data\n",
    "validation_image_generator = ImageDataGenerator(rescale=1./255) # Generator for our validation data\n"
   ]
  },
  {
   "cell_type": "code",
   "execution_count": 8,
   "metadata": {},
   "outputs": [
    {
     "name": "stdout",
     "output_type": "stream",
     "text": [
      "Found 10148 images belonging to 4 classes.\n"
     ]
    }
   ],
   "source": [
    "training_set = train_image_generator.flow_from_directory(batch_size=batch_size,\n",
    "                                                           directory=train_dir,\n",
    "                                                           shuffle=True,\n",
    "                                                           target_size=(IMG_HEIGHT, IMG_WIDTH),\n",
    "                                                           class_mode='categorical')\n"
   ]
  },
  {
   "cell_type": "code",
   "execution_count": 9,
   "metadata": {},
   "outputs": [
    {
     "name": "stdout",
     "output_type": "stream",
     "text": [
      "Found 2536 images belonging to 4 classes.\n"
     ]
    }
   ],
   "source": [
    "valid_set = validation_image_generator.flow_from_directory(batch_size=batch_size,\n",
    "                                                              directory=validation_dir,\n",
    "                                                              target_size=(IMG_HEIGHT, IMG_WIDTH),\n",
    "                                                              class_mode='categorical')\n"
   ]
  },
  {
   "cell_type": "code",
   "execution_count": 10,
   "metadata": {},
   "outputs": [
    {
     "name": "stderr",
     "output_type": "stream",
     "text": [
      "Using TensorFlow backend.\n"
     ]
    },
    {
     "name": "stdout",
     "output_type": "stream",
     "text": [
      "Model: \"sequential_1\"\n",
      "_________________________________________________________________\n",
      "Layer (type)                 Output Shape              Param #   \n",
      "=================================================================\n",
      "conv2d_1 (Conv2D)            (None, 55, 55, 96)        34944     \n",
      "_________________________________________________________________\n",
      "max_pooling2d_1 (MaxPooling2 (None, 27, 27, 96)        0         \n",
      "_________________________________________________________________\n",
      "conv2d_2 (Conv2D)            (None, 27, 27, 256)       614656    \n",
      "_________________________________________________________________\n",
      "max_pooling2d_2 (MaxPooling2 (None, 13, 13, 256)       0         \n",
      "_________________________________________________________________\n",
      "conv2d_3 (Conv2D)            (None, 13, 13, 384)       885120    \n",
      "_________________________________________________________________\n",
      "conv2d_4 (Conv2D)            (None, 13, 13, 384)       1327488   \n",
      "_________________________________________________________________\n",
      "conv2d_5 (Conv2D)            (None, 13, 13, 256)       884992    \n",
      "_________________________________________________________________\n",
      "max_pooling2d_3 (MaxPooling2 (None, 6, 6, 256)         0         \n",
      "_________________________________________________________________\n",
      "flatten_1 (Flatten)          (None, 9216)              0         \n",
      "_________________________________________________________________\n",
      "dense_1 (Dense)              (None, 4096)              37752832  \n",
      "_________________________________________________________________\n",
      "dropout_1 (Dropout)          (None, 4096)              0         \n",
      "_________________________________________________________________\n",
      "dense_2 (Dense)              (None, 4096)              16781312  \n",
      "_________________________________________________________________\n",
      "dropout_2 (Dropout)          (None, 4096)              0         \n",
      "_________________________________________________________________\n",
      "dense_3 (Dense)              (None, 4)                 16388     \n",
      "=================================================================\n",
      "Total params: 58,297,732\n",
      "Trainable params: 58,297,732\n",
      "Non-trainable params: 0\n",
      "_________________________________________________________________\n",
      "Epoch 1/50\n",
      "79/79 [==============================] - 1357s 17s/step - loss: 1.2002 - accuracy: 0.5092 - val_loss: 1.1426 - val_accuracy: 0.5173\n",
      "Epoch 2/50\n"
     ]
    },
    {
     "name": "stderr",
     "output_type": "stream",
     "text": [
      "C:\\Users\\snguyen4\\AppData\\Local\\Continuum\\anaconda3\\lib\\site-packages\\keras\\callbacks\\callbacks.py:707: RuntimeWarning: Can save best model only with val_acc available, skipping.\n",
      "  'skipping.' % (self.monitor), RuntimeWarning)\n"
     ]
    },
    {
     "name": "stdout",
     "output_type": "stream",
     "text": [
      "79/79 [==============================] - 1366s 17s/step - loss: 1.1827 - accuracy: 0.5164 - val_loss: 1.0852 - val_accuracy: 0.5216\n",
      "Epoch 3/50\n",
      "79/79 [==============================] - 1331s 17s/step - loss: 1.0792 - accuracy: 0.5408 - val_loss: 1.0705 - val_accuracy: 0.6217\n",
      "Epoch 4/50\n",
      "79/79 [==============================] - 895s 11s/step - loss: 0.8516 - accuracy: 0.6357 - val_loss: 0.7501 - val_accuracy: 0.6578\n",
      "Epoch 5/50\n",
      "79/79 [==============================] - 598s 8s/step - loss: 0.7150 - accuracy: 0.7098 - val_loss: 0.8112 - val_accuracy: 0.6923\n",
      "Epoch 6/50\n",
      "79/79 [==============================] - 611s 8s/step - loss: 0.6469 - accuracy: 0.7333 - val_loss: 0.6364 - val_accuracy: 0.7903\n",
      "Epoch 7/50\n",
      "79/79 [==============================] - 614s 8s/step - loss: 0.5711 - accuracy: 0.7723 - val_loss: 0.4977 - val_accuracy: 0.8401\n",
      "Epoch 8/50\n",
      "79/79 [==============================] - 602s 8s/step - loss: 0.4189 - accuracy: 0.8405 - val_loss: 0.2675 - val_accuracy: 0.8879\n",
      "Epoch 9/50\n",
      "79/79 [==============================] - 614s 8s/step - loss: 0.3113 - accuracy: 0.8832 - val_loss: 0.1842 - val_accuracy: 0.8991\n",
      "Epoch 10/50\n",
      "79/79 [==============================] - 599s 8s/step - loss: 0.2148 - accuracy: 0.9207 - val_loss: 0.1915 - val_accuracy: 0.9356\n",
      "Epoch 11/50\n",
      "79/79 [==============================] - 613s 8s/step - loss: 0.1930 - accuracy: 0.9278 - val_loss: 0.1820 - val_accuracy: 0.9410\n",
      "Epoch 12/50\n",
      "79/79 [==============================] - 621s 8s/step - loss: 0.1680 - accuracy: 0.9371 - val_loss: 0.1808 - val_accuracy: 0.9381\n",
      "Epoch 13/50\n",
      "79/79 [==============================] - 613s 8s/step - loss: 0.1205 - accuracy: 0.9552 - val_loss: 0.1577 - val_accuracy: 0.9468\n",
      "Epoch 14/50\n",
      "79/79 [==============================] - 603s 8s/step - loss: 0.1094 - accuracy: 0.9588 - val_loss: 0.1387 - val_accuracy: 0.9414\n",
      "Epoch 15/50\n",
      "79/79 [==============================] - 611s 8s/step - loss: 0.0871 - accuracy: 0.9675 - val_loss: 0.1517 - val_accuracy: 0.9522\n",
      "Epoch 16/50\n",
      "79/79 [==============================] - 600s 8s/step - loss: 0.0823 - accuracy: 0.9710 - val_loss: 0.1765 - val_accuracy: 0.9597\n",
      "Epoch 17/50\n",
      "79/79 [==============================] - 612s 8s/step - loss: 0.0851 - accuracy: 0.9680 - val_loss: 0.1901 - val_accuracy: 0.9547\n",
      "Epoch 18/50\n",
      "79/79 [==============================] - 601s 8s/step - loss: 0.0514 - accuracy: 0.9821 - val_loss: 0.1022 - val_accuracy: 0.9701\n",
      "Epoch 19/50\n",
      "79/79 [==============================] - 613s 8s/step - loss: 0.0501 - accuracy: 0.9806 - val_loss: 0.0679 - val_accuracy: 0.9655\n",
      "Epoch 20/50\n",
      "79/79 [==============================] - 608s 8s/step - loss: 0.0480 - accuracy: 0.9819 - val_loss: 0.0470 - val_accuracy: 0.9743\n",
      "Epoch 21/50\n",
      "79/79 [==============================] - 607s 8s/step - loss: 0.0450 - accuracy: 0.9836 - val_loss: 0.1319 - val_accuracy: 0.9745\n",
      "Epoch 22/50\n",
      "79/79 [==============================] - 632s 8s/step - loss: 0.0307 - accuracy: 0.9895 - val_loss: 0.1436 - val_accuracy: 0.9601\n",
      "Epoch 23/50\n",
      "79/79 [==============================] - 605s 8s/step - loss: 0.0292 - accuracy: 0.9896 - val_loss: 0.0648 - val_accuracy: 0.9780\n",
      "Epoch 24/50\n",
      "79/79 [==============================] - 608s 8s/step - loss: 0.0217 - accuracy: 0.9923 - val_loss: 0.0179 - val_accuracy: 0.9809\n",
      "Epoch 25/50\n",
      "79/79 [==============================] - 608s 8s/step - loss: 0.0156 - accuracy: 0.9954 - val_loss: 0.0397 - val_accuracy: 0.9784\n",
      "Epoch 26/50\n",
      "79/79 [==============================] - 616s 8s/step - loss: 0.0128 - accuracy: 0.9962 - val_loss: 0.0670 - val_accuracy: 0.9751\n",
      "Epoch 27/50\n",
      "79/79 [==============================] - 607s 8s/step - loss: 0.0109 - accuracy: 0.9963 - val_loss: 0.0957 - val_accuracy: 0.9817\n",
      "Epoch 28/50\n",
      "79/79 [==============================] - 610s 8s/step - loss: 0.0261 - accuracy: 0.9895 - val_loss: 0.0629 - val_accuracy: 0.9784\n",
      "Epoch 29/50\n",
      "79/79 [==============================] - 610s 8s/step - loss: 0.0123 - accuracy: 0.9951 - val_loss: 0.0872 - val_accuracy: 0.9838\n",
      "Epoch 30/50\n",
      "79/79 [==============================] - 607s 8s/step - loss: 0.0054 - accuracy: 0.9988 - val_loss: 0.1382 - val_accuracy: 0.9813\n",
      "Epoch 31/50\n",
      "79/79 [==============================] - 605s 8s/step - loss: 0.0050 - accuracy: 0.9993 - val_loss: 0.0788 - val_accuracy: 0.9797\n",
      "Epoch 32/50\n",
      "79/79 [==============================] - 615s 8s/step - loss: 0.0059 - accuracy: 0.9985 - val_loss: 0.0912 - val_accuracy: 0.9797\n",
      "Epoch 33/50\n",
      "79/79 [==============================] - 609s 8s/step - loss: 0.0037 - accuracy: 0.9989 - val_loss: 0.0875 - val_accuracy: 0.9838\n",
      "Epoch 34/50\n",
      "79/79 [==============================] - 610s 8s/step - loss: 0.0160 - accuracy: 0.9942 - val_loss: 0.2524 - val_accuracy: 0.9643\n",
      "Epoch 35/50\n",
      "79/79 [==============================] - 607s 8s/step - loss: 0.0155 - accuracy: 0.9941 - val_loss: 0.0477 - val_accuracy: 0.9830\n",
      "Epoch 36/50\n",
      "79/79 [==============================] - 606s 8s/step - loss: 0.0027 - accuracy: 0.9993 - val_loss: 0.0579 - val_accuracy: 0.9826\n",
      "Epoch 37/50\n",
      "79/79 [==============================] - 603s 8s/step - loss: 0.0028 - accuracy: 0.9995 - val_loss: 0.1473 - val_accuracy: 0.9834\n",
      "Epoch 38/50\n",
      "79/79 [==============================] - 618s 8s/step - loss: 0.0021 - accuracy: 0.9998 - val_loss: 0.1262 - val_accuracy: 0.9859\n",
      "Epoch 39/50\n",
      "79/79 [==============================] - 604s 8s/step - loss: 0.0021 - accuracy: 0.9996 - val_loss: 0.0850 - val_accuracy: 0.9826\n",
      "Epoch 40/50\n",
      "79/79 [==============================] - 627s 8s/step - loss: 0.0010 - accuracy: 0.9999 - val_loss: 0.0778 - val_accuracy: 0.9834\n",
      "Epoch 41/50\n",
      "79/79 [==============================] - 608s 8s/step - loss: 0.0014 - accuracy: 0.9997 - val_loss: 0.0105 - val_accuracy: 0.9823\n",
      "Epoch 42/50\n",
      "79/79 [==============================] - 604s 8s/step - loss: 0.0013 - accuracy: 0.9998 - val_loss: 0.1165 - val_accuracy: 0.9830\n",
      "Epoch 43/50\n",
      "79/79 [==============================] - 608s 8s/step - loss: 0.0011 - accuracy: 0.9998 - val_loss: 0.1066 - val_accuracy: 0.9817\n",
      "Epoch 44/50\n",
      "79/79 [==============================] - 605s 8s/step - loss: 7.7929e-04 - accuracy: 1.0000 - val_loss: 0.0502 - val_accuracy: 0.9809\n",
      "Epoch 45/50\n",
      "79/79 [==============================] - 606s 8s/step - loss: 5.8061e-04 - accuracy: 1.0000 - val_loss: 0.0500 - val_accuracy: 0.9871\n",
      "Epoch 46/50\n",
      "79/79 [==============================] - 607s 8s/step - loss: 6.1557e-04 - accuracy: 1.0000 - val_loss: 0.0538 - val_accuracy: 0.9842\n",
      "Epoch 47/50\n",
      "79/79 [==============================] - 600s 8s/step - loss: 6.3998e-04 - accuracy: 1.0000 - val_loss: 0.1435 - val_accuracy: 0.9792\n",
      "Epoch 48/50\n",
      "79/79 [==============================] - 610s 8s/step - loss: 6.0867e-04 - accuracy: 0.9999 - val_loss: 0.0357 - val_accuracy: 0.9846\n",
      "Epoch 49/50\n",
      "79/79 [==============================] - 597s 8s/step - loss: 5.7580e-04 - accuracy: 1.0000 - val_loss: 0.0183 - val_accuracy: 0.9850\n",
      "Epoch 50/50\n",
      "79/79 [==============================] - 611s 8s/step - loss: 5.6441e-04 - accuracy: 1.0000 - val_loss: 0.1557 - val_accuracy: 0.9838\n"
     ]
    }
   ],
   "source": [
    "from keras.models import Sequential\n",
    "from keras.layers import Convolution2D\n",
    "from keras.layers import MaxPooling2D\n",
    "from keras.layers import Flatten\n",
    "from keras.layers import Dense\n",
    "from keras.layers import Dropout\n",
    "\n",
    "\n",
    "classifier = Sequential()\n",
    "#\n",
    "classifier.add(Convolution2D(96, 11, strides = (4, 4), padding = 'valid', input_shape=(227, 227, 3), activation = 'relu'))\n",
    "\n",
    "classifier.add(MaxPooling2D(pool_size = (3, 3), strides = (2, 2)))\n",
    "\n",
    "# Convolution Step 2\n",
    "classifier.add(Convolution2D(256, 5, strides = (1, 1), padding='same', activation = 'relu'))\n",
    "\n",
    "# Max Pooling Step 2\n",
    "classifier.add(MaxPooling2D(pool_size = (3, 3), strides = (2, 2)))\n",
    "\n",
    "# Convolution Step 3\n",
    "classifier.add(Convolution2D(384, 3, strides = (1, 1), padding='same', activation = 'relu'))\n",
    "\n",
    "# Convolution Step 4\n",
    "classifier.add(Convolution2D(384, 3, strides = (1, 1), padding='same', activation = 'relu'))\n",
    "\n",
    "# Convolution Step 5\n",
    "classifier.add(Convolution2D(256, 3, strides=(1,1), padding='same', activation = 'relu'))\n",
    "\n",
    "# Max Pooling Step 3\n",
    "classifier.add(MaxPooling2D(pool_size = (3, 3), strides = (2, 2)))\n",
    "\n",
    "# Flattening Step\n",
    "classifier.add(Flatten())\n",
    "\n",
    "# Full Connection Step 1\n",
    "classifier.add(Dense(units = 4096, activation = 'relu'))\n",
    "classifier.add(Dropout(0.5))\n",
    "\n",
    "# Full Connection Step 2\n",
    "classifier.add(Dense(units = 4096, activation = 'relu'))\n",
    "classifier.add(Dropout(0.5))\n",
    "\n",
    "# Classification step \n",
    "classifier.add(Dense(units = 4, activation = 'softmax'))\n",
    "\n",
    "# Model summary\n",
    "classifier.summary()\n",
    "\n",
    "from keras import optimizers\n",
    "classifier.compile(optimizer=optimizers.SGD(lr=1e-2, momentum=0.9, decay=5e-4),\n",
    "              loss='categorical_crossentropy',\n",
    "              metrics=['accuracy'])\n",
    "            \n",
    "            \n",
    "# image preprocessing\n",
    "from keras.preprocessing.image import ImageDataGenerator\n",
    "\n",
    "\n",
    "train_num = training_set.samples\n",
    "valid_num = valid_set.samples\n",
    "\n",
    "from keras.callbacks import ModelCheckpoint\n",
    "weightpath = \"AlexNet_Weights.h5\"\n",
    "checkpoints = ModelCheckpoint(weightpath, monitor='val_acc', verbose=1, save_best_only=True, save_weights_only=True, mode='max')\n",
    "callback_list = [checkpoints]\n",
    "\n",
    "\n",
    "history = classifier.fit_generator(training_set,\n",
    "                         steps_per_epoch=train_num//batch_size,\n",
    "                         validation_data=valid_set,\n",
    "                         epochs=epochs,\n",
    "                         validation_steps=valid_num//batch_size,\n",
    "                         callbacks=callback_list)\n"
   ]
  },
  {
   "cell_type": "code",
   "execution_count": 11,
   "metadata": {},
   "outputs": [
    {
     "data": {
      "image/png": "[encoded data removed]",
      "text/plain": [
       "<Figure size 576x576 with 2 Axes>"
      ]
     },
     "metadata": {
      "needs_background": "light"
     },
     "output_type": "display_data"
    }
   ],
   "source": [
    "acc = history.history['accuracy']\n",
    "val_acc = history.history['val_accuracy']\n",
    "\n",
    "loss=history.history['loss']\n",
    "val_loss=history.history['val_loss']\n",
    "\n",
    "epochs_range = range(epochs)\n",
    "\n",
    "plt.figure(figsize=(8, 8))\n",
    "plt.subplot(1, 2, 1)\n",
    "plt.plot(epochs_range, acc, label='Training Accuracy')\n",
    "plt.plot(epochs_range, val_acc, label='Validation Accuracy')\n",
    "plt.legend(loc='lower right')\n",
    "plt.title('Training and Validation Accuracy')\n",
    "\n",
    "plt.subplot(1, 2, 2)\n",
    "plt.plot(epochs_range, loss, label='Training Loss')\n",
    "plt.plot(epochs_range, val_loss, label='Validation Loss')\n",
    "plt.legend(loc='upper right')\n",
    "plt.title('Training and Validation Loss')\n",
    "plt.show()\n"
   ]
  },
  {
   "cell_type": "code",
   "execution_count": 12,
   "metadata": {},
   "outputs": [
    {
     "data": {
      "text/plain": [
       "'2.1.0'"
      ]
     },
     "execution_count": 12,
     "metadata": {},
     "output_type": "execute_result"
    }
   ],
   "source": [
    "import tensorflow\n",
    "tensorflow.__version__"
   ]
  },
  {
   "cell_type": "code",
   "execution_count": 13,
   "metadata": {},
   "outputs": [
    {
     "data": {
      "text/plain": [
       "'2.3.1'"
      ]
     },
     "execution_count": 13,
     "metadata": {},
     "output_type": "execute_result"
    }
   ],
   "source": [
    "import keras\n",
    "keras.__version__"
   ]
  },
  {
   "cell_type": "code",
   "execution_count": null,
   "metadata": {},
   "outputs": [],
   "source": []
  }
 ],
 "metadata": {
  "kernelspec": {
   "display_name": "Python 3",
   "language": "python",
   "name": "python3"
  },
  "language_info": {
   "codemirror_mode": {
    "name": "ipython",
    "version": 3
   },
   "file_extension": ".py",
   "mimetype": "text/x-python",
   "name": "python",
   "nbconvert_exporter": "python",
   "pygments_lexer": "ipython3",
   "version": "3.7.7"
  }
 },
 "nbformat": 4,
 "nbformat_minor": 4
}
